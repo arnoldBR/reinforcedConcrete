{
 "cells": [
  {
   "cell_type": "code",
   "execution_count": 1,
   "id": "editorial-discovery",
   "metadata": {},
   "outputs": [],
   "source": [
    "import pandas as pd\n",
    "import numpy as np\n",
    "import handcalcs.render\n",
    "import forallpeople\n",
    "from math import pi\n",
    "from IPython.display import display, Markdown, Math\n",
    "forallpeople.environment('structural_custom', top_level = True)\n",
    "%decimal_separator ,"
   ]
  },
  {
   "cell_type": "markdown",
   "id": "solved-concept",
   "metadata": {},
   "source": [
    "# Cálculo da Área de Armadura através de processo iterativo - DIN1045-1"
   ]
  },
  {
   "cell_type": "markdown",
   "id": "living-ceramic",
   "metadata": {},
   "source": [
    "## Definição das propriedades"
   ]
  },
  {
   "cell_type": "code",
   "execution_count": 2,
   "id": "monetary-moderator",
   "metadata": {},
   "outputs": [
    {
     "data": {
      "text/latex": [
       "\\[\n",
       "\\begin{aligned}\n",
       "f_{yk} &= 500{,}000\\ \\text{MPa} \\; \n",
       " &f_{yd} &= 434{,}783\\ \\text{MPa} \\; \n",
       " &f_{tkcal} &= 525{,}000\\ \\text{MPa} \\; \n",
       "\\\\[10pt]\n",
       " f_{tdcal} &= 456{,}522\\ \\text{MPa} \\; \n",
       " &E_{s} &= 200{,}000\\ \\text{GPa} \\; \n",
       " &ε_{yd} &= 2{,}174 \\times 10 ^ {-3 } \\; \n",
       "\\\\[10pt]\n",
       " f_{ck} &= 25{,}000\\ \\text{MPa} \\; \n",
       " &α &= 0{,}85 \\; \n",
       " &f_{cd} &= 14{,}167\\ \\text{MPa} \\; \n",
       "\\\\[10pt]\n",
       " α_{R} &= 0{,}81 \\; \n",
       " &k_{a} &= 0{,}416 \\; \\;\\textrm{($\\alpha_R$, $k_a$: parâmetros do diagrana parábola-retângulo)}\\end{aligned}\n",
       "\\]"
      ],
      "text/plain": [
       "<IPython.core.display.Latex object>"
      ]
     },
     "metadata": {},
     "output_type": "display_data"
    }
   ],
   "source": [
    "%%render params 3\n",
    "f_yk = 500 * MPa\n",
    "f_yd = f_yk / 1.15\n",
    "f_tkcal = 525 * MPa\n",
    "f_tdcal = f_tkcal / 1.15\n",
    "E_s = 200000 * MPa\n",
    "ε_yd = f_yd / E_s\n",
    "f_ck = 25 * MPa\n",
    "α = 0.85\n",
    "f_cd = α * f_ck / 1.5\n",
    "\n",
    "# Parâmetros do uso do diagrama retangular:\n",
    "α_R = 0.81 \n",
    "k_a = 0.416 # $\\alpha_R$, $k_a$: parâmetros do diagrana parábola-retângulo"
   ]
  },
  {
   "cell_type": "code",
   "execution_count": 3,
   "id": "human-birth",
   "metadata": {},
   "outputs": [
    {
     "data": {
      "text/latex": [
       "\\[\n",
       "\\begin{aligned}\n",
       "b &= 400{,}00\\ \\text{mm} \\; \n",
       " &h &= 640{,}00\\ \\text{mm} \\; \n",
       " &c_{min} &= 10{,}00\\ \\text{mm} \\; \n",
       "\\\\[10pt]\n",
       " \\Delta_{c} &= 10{,}00\\ \\text{mm} \\; \n",
       " &c_{nom} &= 20{,}00\\ \\text{mm} \\; \n",
       " &d_{sw} &= 10{,}00\\ \\text{mm} \\; \n",
       "\\\\[10pt]\n",
       " d_{s} &= 20{,}00\\ \\text{mm} \\;\\end{aligned}\n",
       "\\]"
      ],
      "text/plain": [
       "<IPython.core.display.Latex object>"
      ]
     },
     "metadata": {},
     "output_type": "display_data"
    }
   ],
   "source": [
    "%%render 2 params\n",
    "b = 0.4 * m\n",
    "h = 0.64 * m\n",
    "c_min = 10 * mm\n",
    "Delta_c = 10 * mm\n",
    "c_nom = c_min + Delta_c\n",
    "d_sw = 1 * cm\n",
    "d_s = 2 * cm\n",
    "\n"
   ]
  },
  {
   "cell_type": "code",
   "execution_count": 4,
   "id": "electoral-celebrity",
   "metadata": {},
   "outputs": [
    {
     "data": {
      "text/latex": [
       "\\[\n",
       "\\begin{aligned}\n",
       "d &= h - c_{nom} - d_{sw} - \\frac{ d_{s} }{ 2 }  = 640{,}00\\ \\text{mm} - 20{,}00\\ \\text{mm} - 10{,}00\\ \\text{mm} - \\frac{ 20{,}00\\ \\text{mm} }{ 2 } &= 600{,}00\\ \\text{mm}  \n",
       "\\\\[10pt]\n",
       "z_{s1} &= \\frac{ h }{ 2 } - \\left( h - d \\right)  = \\frac{ 640{,}00\\ \\text{mm} }{ 2 } - \\left( 640{,}00\\ \\text{mm} - 600{,}00\\ \\text{mm} \\right) &= 280{,}00\\ \\text{mm}  \n",
       "\\\\[10pt]\n",
       "M_{Ed} &= 280 \\cdot \\mathrm{kN} \\cdot m  = 280 \\cdot kN \\cdot m &= 280{,}00\\ \\text{kN} \\cdot \\text{m}  \n",
       "\\\\[10pt]\n",
       "N_{Ed} &= \\left( - 100 \\right) \\cdot \\mathrm{kN}  = \\left( - 100 \\right) \\cdot kN &= -100{,}00\\ \\text{kN}  \n",
       "\\\\[10pt]\n",
       "e_{d} &= \\frac{ M_{Ed} }{ N_{Ed} }  = \\frac{ 280{,}00\\ \\text{kN} \\cdot \\text{m} }{ -100{,}00\\ \\text{kN} } &= -2{,}80\\ \\text{m}  \n",
       "\\\\[10pt]\n",
       "h_{kern} &= 106{,}67\\ \\text{mm} \\; \n",
       "\\\\[10pt]\n",
       "M_{Eds} &= M_{Ed} - N_{Ed} \\cdot z_{s1}  = 280{,}00\\ \\text{kN} \\cdot \\text{m} - -100{,}00\\ \\text{kN} \\cdot 280{,}00\\ \\text{mm} &= 308{,}00\\ \\text{kN} \\cdot \\text{m}  \n",
       "\\end{aligned}\n",
       "\\]"
      ],
      "text/plain": [
       "<IPython.core.display.Latex object>"
      ]
     },
     "metadata": {},
     "output_type": "display_data"
    }
   ],
   "source": [
    "%%render 2\n",
    "d = h - c_nom - d_sw - d_s/2\n",
    "z_s1 = h/2 - (h-d)\n",
    "\n",
    "M_Ed = 280 * kN * m\n",
    "N_Ed = - 100 * kN\n",
    "e_d = M_Ed / N_Ed\n",
    "h_kern = (h/6)\n",
    "M_Eds = M_Ed - N_Ed * z_s1"
   ]
  },
  {
   "cell_type": "markdown",
   "id": "studied-darkness",
   "metadata": {},
   "source": [
    "# 1º passo de iteração\n",
    "A ruptura é definida pela zona de concreto em compressão ou pelo aço? Assumindo que o plano de deformação está entre os domínios 2 e 3:"
   ]
  },
  {
   "cell_type": "code",
   "execution_count": 5,
   "id": "naval-nickel",
   "metadata": {},
   "outputs": [],
   "source": [
    "ε_c2u = - 3.5 * mm / m\n",
    "ε_su = 25 * mm / m\n",
    "ξ_23 =  ε_c2u / (ε_c2u - ε_su)\n",
    "x = ξ_23 * d"
   ]
  },
  {
   "cell_type": "code",
   "execution_count": 6,
   "id": "changing-understanding",
   "metadata": {},
   "outputs": [
    {
     "name": "stdout",
     "output_type": "stream",
     "text": [
      "x = 73.684 mm\n",
      " z = 569.347 mm\n",
      " ζ = 0.9489122807017544\n",
      "\n"
     ]
    }
   ],
   "source": [
    "x = ξ_23 * d\n",
    "z = d - k_a * x\n",
    "ζ = z/d\n",
    "print(f'x = {x}\\n',f'z = {z}\\n',f'ζ = {ζ}\\n')"
   ]
  },
  {
   "cell_type": "code",
   "execution_count": 7,
   "id": "exposed-simpson",
   "metadata": {},
   "outputs": [
    {
     "data": {
      "text/latex": [
       "\\[\n",
       "\\begin{aligned}\n",
       "F_{cd} &= -338{,}211\\ \\text{kN} \\; \n",
       "\\\\[10pt]\n",
       "M_{Rds} &= \\left( - F_{cd} \\right) \\cdot z  = \\left( - -338{,}211\\ \\text{kN} \\right) \\cdot 569{,}347\\ \\text{mm} &= 192{,}559\\ \\text{kN} \\cdot \\text{m}  \n",
       "\\\\[10pt]\n",
       "M_{Eds} &= 308{,}000\\ \\text{kN} \\cdot \\text{m} \\; \n",
       "\\end{aligned}\n",
       "\\]"
      ],
      "text/plain": [
       "<IPython.core.display.Latex object>"
      ]
     },
     "metadata": {},
     "output_type": "display_data"
    }
   ],
   "source": [
    "%%render\n",
    "F_cd = - α_R*b*x*f_cd\n",
    "M_Rds = -F_cd*z\n",
    "M_Eds = M_Eds"
   ]
  },
  {
   "cell_type": "code",
   "execution_count": 8,
   "id": "referenced-cincinnati",
   "metadata": {},
   "outputs": [
    {
     "name": "stdout",
     "output_type": "stream",
     "text": [
      "Viga no estádio 3 ou 4 - seguir com cálculo\n"
     ]
    }
   ],
   "source": [
    "if M_Rds > M_Eds:\n",
    "    print(\"Viga no estádio 2\" + \" - completar código para estádio 2\")\n",
    "else:\n",
    "    print(\"Viga no estádio 3 ou 4 - seguir com cálculo\")"
   ]
  },
  {
   "cell_type": "markdown",
   "id": "sonic-ethics",
   "metadata": {},
   "source": [
    "# 2º Passo de iteração\n",
    "O aço alcança a tensão de escoamento no ELU?"
   ]
  },
  {
   "cell_type": "code",
   "execution_count": 9,
   "id": "small-friend",
   "metadata": {},
   "outputs": [
    {
     "name": "stdout",
     "output_type": "stream",
     "text": [
      "0.6168582375478927\n",
      "370.115 mm\n",
      "446.032 mm\n",
      "0.7433869731800767\n"
     ]
    }
   ],
   "source": [
    "ξ_34 =  ε_c2u / (ε_c2u - ε_yd); print(ξ_34)\n",
    "x = ξ_34 * d; print(x)\n",
    "z = d - k_a * x; print(z)\n",
    "ζ = z/d; print(ζ)"
   ]
  },
  {
   "cell_type": "code",
   "execution_count": 10,
   "id": "global-night",
   "metadata": {},
   "outputs": [
    {
     "data": {
      "text/latex": [
       "\\[\n",
       "\\begin{aligned}\n",
       "F_{cd} &= -1{,}699\\ \\text{MN} \\; \n",
       "\\\\[10pt]\n",
       "M_{Rds} &= \\left( - F_{cd} \\right) \\cdot z  = \\left( - -1{,}699\\ \\text{MN} \\right) \\cdot 446{,}032\\ \\text{mm} &= 757{,}732\\ \\text{kN} \\cdot \\text{m}  \n",
       "\\\\[10pt]\n",
       "M_{Eds} &= 308{,}000\\ \\text{kN} \\cdot \\text{m} \\; \n",
       "\\end{aligned}\n",
       "\\]"
      ],
      "text/plain": [
       "<IPython.core.display.Latex object>"
      ]
     },
     "metadata": {},
     "output_type": "display_data"
    }
   ],
   "source": [
    "%%render\n",
    "F_cd = - α_R*b*x*f_cd \n",
    "M_Rds = -F_cd*z\n",
    "M_Eds = M_Eds"
   ]
  },
  {
   "cell_type": "code",
   "execution_count": 11,
   "id": "comprehensive-advice",
   "metadata": {},
   "outputs": [
    {
     "name": "stdout",
     "output_type": "stream",
     "text": [
      "Viga no estádio 3 - Seguir com cálculo no estádio 3\n"
     ]
    }
   ],
   "source": [
    "if M_Rds > M_Eds:\n",
    "    print(\"Viga no estádio 3 - Seguir com cálculo no estádio 3\")\n",
    "else:\n",
    "    print(\"Viga no estádio 4 - Ruptura sem aviso - Redimensionar\")"
   ]
  },
  {
   "cell_type": "code",
   "execution_count": 12,
   "id": "worse-repair",
   "metadata": {},
   "outputs": [],
   "source": [
    "# Criar algoritmo para iterar até chegar em M_Rds = M_Eds, variando ε_s1\n",
    "\n",
    "#Calculadora do momento em função da deformação no aço, para o dominio 3\n",
    "def calc_M(ε_sd):\n",
    "    global ξ, x, z, ζ, F_cd, M_Rds\n",
    "    ξ = ε_c2u / (ε_c2u - ε_sd)#; print(ξ)\n",
    "    x = ξ * d# ; print(x)\n",
    "    z = d - k_a * x#; print(z)\n",
    "    ζ = z/d#; print(ζ)\n",
    "    F_cd = - α_R*b*x*f_cd#; print(α_R, b, x, f_cd,F_cd)\n",
    "    M_Rds = - F_cd * z\n",
    "    \n",
    "    return M_Rds\n",
    "     "
   ]
  },
  {
   "cell_type": "code",
   "execution_count": 13,
   "id": "combined-skating",
   "metadata": {},
   "outputs": [],
   "source": [
    "pts=1000\n",
    "ε_list = []\n",
    "M_list = []\n",
    "M_Ed_list = [] \n",
    "\n",
    "for e in range(0,pts+1,1):\n",
    "    ε = (((pts-e)/pts)*ε_yd + (e/pts)*ε_su)\n",
    "    ε_list.append(float(ε))\n",
    "    \n",
    "    M = calc_M(ε)\n",
    "    M_list.append(float(M))\n",
    "    M_Ed_list.append(float(M_Eds.prefix('k')))\n",
    "    \n",
    "    "
   ]
  },
  {
   "cell_type": "code",
   "execution_count": 14,
   "id": "premium-stadium",
   "metadata": {},
   "outputs": [
    {
     "name": "stdout",
     "output_type": "stream",
     "text": [
      "308.000 kN·m\n"
     ]
    }
   ],
   "source": [
    "print(M_Eds)"
   ]
  },
  {
   "cell_type": "code",
   "execution_count": 15,
   "id": "small-waterproof",
   "metadata": {},
   "outputs": [
    {
     "data": {
      "image/png": "[encoded data removed]",
      "text/plain": [
       "<Figure size 432x288 with 1 Axes>"
      ]
     },
     "metadata": {
      "needs_background": "light"
     },
     "output_type": "display_data"
    }
   ],
   "source": [
    "# Plotando o gráfico para ver se faz sentido: Gráfico de MRds variando com ε\n",
    "\n",
    "data={'M':M_list,'M_Ed':M_Ed_list }\n",
    "\n",
    "dados = pd.DataFrame(data, index=ε_list)\n",
    "\n",
    "#dados.plot.scatter(x='ε', y='M', ='M_Ed_list')\n",
    "\n",
    "lines = dados.plot.line()"
   ]
  },
  {
   "cell_type": "code",
   "execution_count": 16,
   "id": "underlying-thousand",
   "metadata": {},
   "outputs": [],
   "source": [
    "# Como pegar o ponto exato??\n",
    "\n",
    "def find_match_dom3(M_Ed_list, M_lis):\n",
    "    global M_subtract\n",
    "    M_Ed_array = np.array(M_Ed_list)\n",
    "    M_array = np.array(M_list)\n",
    "    M_subtract = M_Ed_array - M_array\n",
    "    for i in range(M_subtract.size):\n",
    "        if M_subtract[i] > 0:\n",
    "            print(i, i-1,M_array[i-1],M_array[i])\n",
    "            return i-1\n",
    "            break"
   ]
  },
  {
   "cell_type": "code",
   "execution_count": 17,
   "id": "cross-dryer",
   "metadata": {},
   "outputs": [
    {
     "name": "stdout",
     "output_type": "stream",
     "text": [
      "505 504 308.13415580035394 307.7630742224119\n"
     ]
    }
   ],
   "source": [
    "pos=find_match_dom3(M_Ed_list, M_list)"
   ]
  },
  {
   "cell_type": "code",
   "execution_count": 20,
   "id": "spare-duplicate",
   "metadata": {},
   "outputs": [],
   "source": [
    "# Agora tenho um intervalo pequeno o bastante pra que haja convergencia...\n",
    "# Aqui escrevi uma função para buscar o valor de M que bate com M_Eds\n",
    "\n",
    "M_Eds_float = float(M_Eds)\n",
    "\n",
    "pts = 1000\n",
    "ε_list_narrowed = [((pts-i)/pts)*ε_list[pos]+(i/pts)*ε_list[pos+1] for i in range(pts)]\n",
    "\n",
    "def converjator(M_Eds):\n",
    "    for ε in ε_list_narrowed:\n",
    "        M = float(calc_M(ε))\n",
    "        #print(M - float(M_Eds), M)\n",
    "        if abs(M-M_Eds) < 1E-3:\n",
    "            return [M, ε]"
   ]
  },
  {
   "cell_type": "code",
   "execution_count": 21,
   "id": "composed-shoulder",
   "metadata": {},
   "outputs": [],
   "source": [
    "Ans=converjator(float(M_Eds))"
   ]
  },
  {
   "cell_type": "code",
   "execution_count": 22,
   "id": "neither-gilbert",
   "metadata": {},
   "outputs": [],
   "source": [
    "M_Ans = Ans[0]\n",
    "ε_Ans = Ans[1]"
   ]
  },
  {
   "cell_type": "code",
   "execution_count": 23,
   "id": "connected-angle",
   "metadata": {},
   "outputs": [
    {
     "data": {
      "text/html": [
       "308.001 kN&#8901;m"
      ],
      "text/latex": [
       "308.001\\ \\text{kN} \\cdot \\text{m}"
      ],
      "text/markdown": [
       "308.001 kN&#8901;m"
      ],
      "text/plain": [
       "308.001 kN·m"
      ]
     },
     "execution_count": 23,
     "metadata": {},
     "output_type": "execute_result"
    }
   ],
   "source": [
    "calc_M(ε_Ans)"
   ]
  },
  {
   "cell_type": "code",
   "execution_count": 40,
   "id": "written-fiber",
   "metadata": {},
   "outputs": [
    {
     "data": {
      "text/latex": [
       "\\[\n",
       "\\begin{aligned}\n",
       "ε_{sd} &= 1{,}37 \\times 10 ^ {-2 } \\; \n",
       "\\\\[10pt]\n",
       "M_{Eds} &= 308{,}00\\ \\text{kN} \\cdot \\text{m} \\; \n",
       "\\\\[10pt]\n",
       "M_{Rds} &= 308{,}00\\ \\text{kN} \\cdot \\text{m} \\; \n",
       "\\\\[10pt]\n",
       "ξ &= 2{,}04 \\times 10 ^ {-1 } \\; \n",
       "\\\\[10pt]\n",
       "x &= 12{,}22\\ \\text{cm} \\; \n",
       "\\\\[10pt]\n",
       "z &= 54{,}92\\ \\text{cm} \\; \n",
       "\\\\[10pt]\n",
       "ζ &= 9{,}15 \\times 10 ^ {-1 } \\; \n",
       "\\\\[10pt]\n",
       "F_{cd} &= -560{,}85\\ \\text{kN} \\; \n",
       "\\\\[10pt]\n",
       "σ_{s1d} &= 445{,}75\\ \\text{MPa} \\; \n",
       "\\\\[10pt]\n",
       "\\mathrm{erfA}_{s1} &= 10{,}34\\ \\text{cm}^{2} \\; \n",
       "\\end{aligned}\n",
       "\\]"
      ],
      "text/plain": [
       "<IPython.core.display.Latex object>"
      ]
     },
     "metadata": {},
     "output_type": "display_data"
    }
   ],
   "source": [
    "%%render 2\n",
    "ε_sd = Ans[1]\n",
    "M_Eds\n",
    "M_Rds = Ans[0] * kN * m\n",
    "ξ\n",
    "x=x.prefix('c') \n",
    "z=z.prefix('c') \n",
    "ζ\n",
    "F_cd\n",
    "σ_s1d = f_yd + ((ε_sd - ε_yd)/(ε_su - ε_yd))*(f_tdcal - f_yd)\n",
    "erfA_s1 = ((-F_cd+N_Ed)* (σ_s1d) ** -1).prefix('c')"
   ]
  },
  {
   "cell_type": "markdown",
   "id": "bottom-duration",
   "metadata": {},
   "source": [
    "# Completar\n",
    "* Da maneira como fiz, está completo para os casos que caem no domínio 3.\n",
    "* Certamente existem maneiras melhores de calcular, principalmente para a parte que procurar o valor que bate com M_Esd\n",
    "* Também provavelmente existe uma \"arquitetura\" melhor do notebook geral\n",
    "* Tem um probleminha acontecendo quando usa letras gregas, não sei se é conflito com o handcalcs ou forallpeople...\n",
    "\n",
    "## Da maneira como está, é só um estudo para fazer uma biblioteca para cálculo de armadura sem precisar de notebook"
   ]
  }
 ],
 "metadata": {
  "kernelspec": {
   "display_name": "Python 3",
   "language": "python",
   "name": "python3"
  },
  "language_info": {
   "codemirror_mode": {
    "name": "ipython",
    "version": 3
   },
   "file_extension": ".py",
   "mimetype": "text/x-python",
   "name": "python",
   "nbconvert_exporter": "python",
   "pygments_lexer": "ipython3",
   "version": "3.9.1"
  }
 },
 "nbformat": 4,
 "nbformat_minor": 5
}
