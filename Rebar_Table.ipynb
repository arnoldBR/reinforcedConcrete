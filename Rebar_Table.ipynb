{
 "cells": [
  {
   "cell_type": "code",
   "execution_count": 2,
   "id": "direct-oliver",
   "metadata": {},
   "outputs": [],
   "source": [
    "import pandas as pd\n",
    "import handcalcs.render\n",
    "import forallpeople\n",
    "from math import pi\n",
    "from IPython.display import display, Markdown, Math\n",
    "forallpeople.environment('structural_custom', top_level = True)\n",
    "%decimal_separator ,"
   ]
  },
  {
   "cell_type": "code",
   "execution_count": 65,
   "id": "black-specification",
   "metadata": {},
   "outputs": [],
   "source": [
    "df = pd.read_csv('Tabelle_6_3_Zilch.csv', decimal=',')"
   ]
  },
  {
   "cell_type": "code",
   "execution_count": 66,
   "id": "pleasant-detective",
   "metadata": {},
   "outputs": [
    {
     "data": {
      "text/latex": [
       "\\[\n",
       "\\begin{aligned}\n",
       "μ_{Eds} &= 1{,}51 \\times 10 ^ {-1 } \\; \n",
       "\\\\[10pt]\n",
       "μ &= 1{,}51 \\times 10 ^ {-1 } \\; \n",
       "\\end{aligned}\n",
       "\\]"
      ],
      "text/plain": [
       "<IPython.core.display.Latex object>"
      ]
     },
     "metadata": {},
     "output_type": "display_data"
    }
   ],
   "source": [
    "%%render 2\n",
    "\n",
    "μ_Eds = 0.151\n",
    "μ = μ_Eds"
   ]
  },
  {
   "cell_type": "code",
   "execution_count": 67,
   "id": "handled-discharge",
   "metadata": {},
   "outputs": [],
   "source": [
    "# Cálculo de ω_1 e σ_sd pela tabela\n",
    "for i in df[\"μEds\"]:\n",
    "    # print(df.index[df[\"μEds\"]==i][0])\n",
    "    # print(i)\n",
    "    \n",
    "    if μ_Eds > i:\n",
    "        idx_1 = int(df.index[df[\"μEds\"]==i][0])\n",
    "        idx_2 = idx_1 + 1\n",
    "        \n",
    "μ_1 = df[\"μEds\"].iloc[idx_1]\n",
    "μ_2 = df[\"μEds\"].iloc[idx_2]\n",
    "\n",
    "\n",
    "ω_1 = df[\"ω1\"].iloc[idx_1]\n",
    "ω_2 = df[\"ω1\"].iloc[idx_1]\n",
    "ω = ((μ - μ_1)/(μ_2 - μ_1))*(ω_2 - ω_1) + ω_1\n",
    "\n",
    "σ_1 = df['σsd [MN/m2]'].iloc[idx_1]\n",
    "σ_2 = df['σsd [MN/m2]'].iloc[idx_2]\n",
    "σ = ((μ - μ_1)/(μ_2 - μ_1))*(σ_2 - σ_1) + σ_1\n"
   ]
  },
  {
   "cell_type": "code",
   "execution_count": 77,
   "id": "distributed-place",
   "metadata": {},
   "outputs": [
    {
     "data": {
      "text/latex": [
       "\\[\n",
       "\\begin{aligned}\n",
       "ω_{1} &= 1{,}64 \\times 10 ^ {-1 } \\; \n",
       "\\\\[10pt]\n",
       "σ_{sd} &= 445{,}78\\ \\text{MPa} \\; \n",
       "\\\\[10pt]\n",
       "b &= 0{,}4 \\cdot m  = 0{,}4 \\cdot m &= 400{,}00\\ \\text{mm}  \n",
       "\\\\[10pt]\n",
       "d &= 0{,}6 \\cdot m  = 0{,}6 \\cdot m &= 600{,}00\\ \\text{mm}  \n",
       "\\\\[10pt]\n",
       "f_{ck} &= 25 \\cdot \\mathrm{MPa}  = 25 \\cdot MPa &= 25{,}00\\ \\text{MPa}  \n",
       "\\\\[10pt]\n",
       "f_{cd} &= 0{,}85 \\cdot \\frac{ f_{ck} }{ 1{,}5 }  = 0{,}85 \\cdot \\frac{ 25{,}00\\ \\text{MPa} }{ 1{,}5 } &= 14{,}17\\ \\text{MPa}  \n",
       "\\\\[10pt]\n",
       "N_{Ed} &= \\left( - 100 \\right) \\cdot \\mathrm{kN}  = \\left( - 100 \\right) \\cdot kN &= -100{,}00\\ \\text{kN}  \n",
       "\\\\[10pt]\n",
       "M_{Eds} &= 308 \\cdot \\mathrm{kN} \\cdot m  = 308 \\cdot kN \\cdot m &= 308{,}00\\ \\text{kN} \\cdot \\text{m}  \n",
       "\\end{aligned}\n",
       "\\]"
      ],
      "text/plain": [
       "<IPython.core.display.Latex object>"
      ]
     },
     "metadata": {},
     "output_type": "display_data"
    }
   ],
   "source": [
    "%%render 2\n",
    "ω_1 = ω\n",
    "σ_sd = σ * MPa\n",
    "\n",
    "b = 0.4 * m\n",
    "d = 0.6 * m\n",
    "f_ck = 25 * MPa\n",
    "f_cd = 0.85 * f_ck / 1.5\n",
    "\n",
    "\n",
    "N_Ed = -100 * kN\n",
    "M_Eds = 308 * kN * m\n"
   ]
  },
  {
   "cell_type": "code",
   "execution_count": 90,
   "id": "postal-listing",
   "metadata": {},
   "outputs": [
    {
     "data": {
      "text/latex": [
       "\\[\n",
       "\\begin{aligned}\n",
       "\\mathrm{erfA}_{s1} &= 10{,}25\\ \\text{cm}^{2} \\; \n",
       "\\end{aligned}\n",
       "\\]"
      ],
      "text/plain": [
       "<IPython.core.display.Latex object>"
      ]
     },
     "metadata": {},
     "output_type": "display_data"
    }
   ],
   "source": [
    "%%render 2\n",
    "erfA_s1 =( (ω*b*d*f_cd + N_Ed) / σ_sd ).prefix('c')\n"
   ]
  }
 ],
 "metadata": {
  "kernelspec": {
   "display_name": "Python 3",
   "language": "python",
   "name": "python3"
  },
  "language_info": {
   "codemirror_mode": {
    "name": "ipython",
    "version": 3
   },
   "file_extension": ".py",
   "mimetype": "text/x-python",
   "name": "python",
   "nbconvert_exporter": "python",
   "pygments_lexer": "ipython3",
   "version": "3.9.1"
  }
 },
 "nbformat": 4,
 "nbformat_minor": 5
}
