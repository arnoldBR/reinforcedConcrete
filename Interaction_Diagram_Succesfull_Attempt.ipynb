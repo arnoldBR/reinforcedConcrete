{
 "cells": [
  {
   "cell_type": "code",
   "execution_count": 1,
   "id": "congressional-manner",
   "metadata": {},
   "outputs": [],
   "source": [
    "import pandas as pd\n",
    "import numpy as np \n",
    "import matplotlib.pyplot as plt\n",
    "from math import pi, cos\n",
    "\n",
    "import handcalcs.render\n",
    "import forallpeople\n",
    "from math import pi\n",
    "from IPython.display import display, Markdown, Math\n",
    "forallpeople.environment('structural', top_level = True)\n",
    "%decimal_separator ,"
   ]
  },
  {
   "cell_type": "code",
   "execution_count": 2,
   "id": "trying-colonial",
   "metadata": {},
   "outputs": [],
   "source": [
    "# parâmetros para cálculo adimensional\n",
    "# d1_h representa a razão d1/h\n",
    "d1_h = .1\n",
    "d2_h = .1\n",
    "ℶ = 1/(1+d1_h)\n",
    "ℵ = d2_h/(1-d1_h) \n",
    "\n",
    "\n",
    "#ω_tot = 1.0\n",
    "\n",
    "#ω_1 = ω_tot * .5\n",
    "#ω_2 = ω_tot * .5"
   ]
  },
  {
   "cell_type": "code",
   "execution_count": 3,
   "id": "baking-purchase",
   "metadata": {
    "scrolled": true
   },
   "outputs": [
    {
     "data": {
      "text/latex": [
       "\\[\n",
       "\\begin{aligned}\n",
       "E_{s} &= 200000{,}000\\ \\text{MPa} \\; \n",
       " &γ_{s} &= 1{,}15 \\; \n",
       " &f_{yk} &= 500{,}000\\ \\text{MPa} \\; \n",
       "\\\\[10pt]\n",
       " f_{tkcal} &= 525{,}000\\ \\text{MPa} \\; \n",
       " &f_{yd} &= 434{,}783\\ \\text{MPa} \\; \n",
       " &f_{tdcal} &= 456{,}522\\ \\text{MPa} \\; \n",
       "\\\\[10pt]\n",
       " ε_{su} &= 0{,}025 \\; \n",
       " &ε_{yd} &= 2{,}174 \\times 10 ^ {-3 } \\; \n",
       " &ε_{c2u} &= 3{,}500 \\times 10 ^ {-3 } \\; \n",
       "\\\\[10pt]\n",
       " ε_{c2} &= 0{,}002 \\; \\;\\textrm{(Deformação de início de esmagamento)}\\end{aligned}\n",
       "\\]"
      ],
      "text/plain": [
       "<IPython.core.display.Latex object>"
      ]
     },
     "metadata": {},
     "output_type": "display_data"
    }
   ],
   "source": [
    "%%render params\n",
    "E_s = (200000 * N / mm ** 2).prefix('M')\n",
    "γ_s = 1.15\n",
    "f_yk = 500 * N/mm**2\n",
    "f_tkcal = 525 * N/mm ** 2\n",
    "f_yd = f_yk/γ_s\n",
    "f_tdcal = f_tkcal/γ_s\n",
    "ε_su = 0.025\n",
    "ε_yd = f_yd/E_s\n",
    "ε_c2u = 0.0035\n",
    "ε_c2 = 0.002 # Deformação de início de esmagamento\n"
   ]
  },
  {
   "cell_type": "code",
   "execution_count": 4,
   "id": "governing-standard",
   "metadata": {},
   "outputs": [
    {
     "data": {
      "text/latex": [
       "\\[\n",
       "\\begin{aligned}\n",
       "ξ_{23} &= 1{,}228 \\times 10 ^ {-1 } \\; \n",
       " &ξ_{lim} &= 6{,}169 \\times 10 ^ {-1 } \\; \\;\\textrm{(O mesmo que $ξ_{34}$)}\\end{aligned}\n",
       "\\]"
      ],
      "text/plain": [
       "<IPython.core.display.Latex object>"
      ]
     },
     "metadata": {},
     "output_type": "display_data"
    }
   ],
   "source": [
    "%%render params\n",
    "ξ_23 = ε_c2u/(ε_c2u+ε_su)\n",
    "ξ_lim = ε_c2u/(ε_c2u+ε_yd) #O mesmo que $ξ_{34}$"
   ]
  },
  {
   "cell_type": "code",
   "execution_count": 5,
   "id": "decimal-kentucky",
   "metadata": {},
   "outputs": [],
   "source": [
    "#Cálculo da tensão do aço para problemas de flexão pelos parâmetros da DIN1045-1\n",
    "def eval_σ_s(ε_s):\n",
    "    if abs(ε_s)>0.025:   #data sanity check\n",
    "        print(\"ε_s is invalid\")\n",
    "        σ_s = 'ERRO'\n",
    "        return σ_s\n",
    "    \n",
    "    if 0 < ε_s <= ε_yd:\n",
    "        σ_s = E_s * ε_s\n",
    "    elif ε_yd < ε_s <= ε_su:\n",
    "        σ_s = ((f_tdcal-f_yd)/(ε_su-ε_yd))*(ε_s-ε_yd)+f_yd\n",
    "    elif - ε_yd < ε_s <= 0:\n",
    "        σ_s = E_s * ε_s\n",
    "    elif -ε_su < ε_s <= - ε_yd:\n",
    "        σ_s = - f_yd\n",
    "    else:\n",
    "        σ_s = 'What?'\n",
    "        print('ε_s_problema',ε_s)\n",
    "    return σ_s"
   ]
  },
  {
   "cell_type": "code",
   "execution_count": 6,
   "id": "signed-colorado",
   "metadata": {},
   "outputs": [],
   "source": [
    "# função que produz um gráfico do diagrama σ-ε para o aço pelos valores DIN1045-1\n",
    "def plot_steel_diagram():\n",
    "    σ_s_list = []\n",
    "    ε_s_list = []\n",
    "\n",
    "    for i in range(-99,101):\n",
    "        u = i/100\n",
    "        ε_s = u * ε_su\n",
    "        σ_s=eval_σ_s(ε_s)\n",
    "        ε_s_list.append(ε_s)\n",
    "        σ_s_list.append(float(σ_s))\n",
    "\n",
    "    data={'σ_s':σ_s_list}\n",
    "\n",
    "    dados = pd.DataFrame(data, index=ε_s_list)\n",
    "\n",
    "    lines = dados.plot.line()"
   ]
  },
  {
   "cell_type": "code",
   "execution_count": 7,
   "id": "consecutive-taxation",
   "metadata": {
    "scrolled": true
   },
   "outputs": [
    {
     "data": {
      "image/png": "[encoded data removed]",
      "text/plain": [
       "<Figure size 432x288 with 1 Axes>"
      ]
     },
     "metadata": {
      "needs_background": "light"
     },
     "output_type": "display_data"
    }
   ],
   "source": [
    "plot_steel_diagram()"
   ]
  },
  {
   "cell_type": "code",
   "execution_count": 8,
   "id": "48069cfc",
   "metadata": {},
   "outputs": [],
   "source": [
    "def eval_α_R(ε):\n",
    "    ε = -ε*1000 # O valor de entrada é o absoluto: precisa tornar neg e em %o\n",
    "    if 0 >= ε >= -2:\n",
    "        α_R = -ε/2 - (ε**2)/12\n",
    "    elif -2 > ε >= -3.5:\n",
    "        α_R = 1 + 2/(3*ε)\n",
    "    elif ε > -3.5:\n",
    "        print(\"INVALID ϵ value\")\n",
    "        return 0\n",
    "    else:\n",
    "        return 'WTF?'\n",
    "    \n",
    "    return α_R"
   ]
  },
  {
   "cell_type": "code",
   "execution_count": 9,
   "id": "metropolitan-average",
   "metadata": {},
   "outputs": [],
   "source": [
    "def eval_ν_Ed_and_μ_Ed(ξ):\n",
    "    flag_dom5 = False # Se True, vai mostrar os print statements.\n",
    "    \n",
    "    α_R = 0.81\n",
    "    k_a = 0.416\n",
    "    global dom\n",
    "    \n",
    "    if ξ == 'PureTension':\n",
    "        dom = 'reta-a'\n",
    "        ε_s1 = ε_su\n",
    "        ε_s2 = ε_su \n",
    "        σ_s1 = abs(eval_σ_s(ε_s1)); σ_s2 = abs(eval_σ_s(ε_s2))\n",
    "        ν_Ed = ω_1*1.05 + ω_2 *1.05\n",
    "        μ_Ed = 0\n",
    "        return ν_Ed, μ_Ed\n",
    "    \n",
    "    elif ξ == 'PureCompression':\n",
    "        dom = 'reta-b'\n",
    "        ε_s1 = -ε_yd\n",
    "        ε_s2 = -ε_yd\n",
    "        σ_s1 = abs(eval_σ_s(ε_s1)); σ_s2 = abs(eval_σ_s(ε_s2))\n",
    "        ν_Ed = - (ω_tot + 1)\n",
    "        μ_Ed = 0\n",
    "        return ν_Ed, μ_Ed\n",
    "    \n",
    "    elif ξ<=0:\n",
    "        dom = 'dom. 1'\n",
    "        ε_s1 = ε_su\n",
    "        ε_s2 = ε_su*(ℵ-ξ)/(1-ξ) \n",
    "        σ_s1 = abs(eval_σ_s(ε_s1)); σ_s2 = abs(eval_σ_s(ε_s2))\n",
    "        ν_s1 = ω_1*σ_s1/f_yd \n",
    "        ν_s2 = ω_2*σ_s2/f_yd\n",
    "        ν_c = 0\n",
    "        μ_s1 = ω_1*(σ_s1/f_yd)*(1/2-d1_h)\n",
    "        μ_s2 = -ω_2*(σ_s2/f_yd)*(1/2-d2_h)\n",
    "        μ_c = 0\n",
    "        \n",
    "    elif 0<ξ<=ξ_23:\n",
    "        dom = 'dom. 2'\n",
    "        ε_s1 = ε_su\n",
    "        ε_ctop = ε_su*(ξ/(1-ξ))\n",
    "        α_R = eval_α_R(ε_ctop)\n",
    "        # Para lidar com o caso da LN entre 0 e d2\n",
    "        if 0<ξ<ℵ:\n",
    "            ε_s2 = ε_su * (ℵ-ξ)/(1-ξ)\n",
    "            s2=1\n",
    "        if ℵ<=ξ<=ξ_23:\n",
    "            ε_s2 = ε_su * (ξ-ℵ)/(1-ξ)\n",
    "            s2=-1\n",
    "        \n",
    "        #print('ε_s2,ε_s1:',ε_s2,ε_s1)\n",
    "        σ_s1 = abs(eval_σ_s(ε_s1)); σ_s2 = abs(eval_σ_s(ε_s2))\n",
    "        ν_s1 = ω_1*σ_s1/f_yd \n",
    "        ν_s2 = s2*ω_2*σ_s2/f_yd #s2 controla o sinal\n",
    "        ν_c = -α_R*ξ*(1-d1_h)\n",
    "        μ_s1 = ω_1*(σ_s1/f_yd)*(1/2-d1_h)\n",
    "        μ_s2 = -s2*ω_2*(σ_s2/f_yd)*(1/2-d2_h)\n",
    "        μ_c = α_R*ξ*(1-d1_h)*(1/2-k_a*ξ*(1-d1_h))\n",
    "        \n",
    "    elif ξ_23<ξ<=1:\n",
    "        if ξ_23<ξ<ξ_lim:\n",
    "            dom = 'dom. 3'\n",
    "        elif ξ_lim<=ξ<=1:\n",
    "            dom = 'dom. 4'\n",
    "        ε_s1 = ε_c2u*(1-ξ)/ξ\n",
    "        ε_s2 = ε_c2u*(ξ-ℵ)/ξ\n",
    "        σ_s1 = abs(eval_σ_s(ε_s1)); σ_s2 = abs(eval_σ_s(ε_s2))\n",
    "        ν_s1 = + ω_1*σ_s1/f_yd \n",
    "        ν_s2 = - ω_2*σ_s2/f_yd\n",
    "        ν_c = - α_R*ξ*(1-d1_h)\n",
    "        μ_s1 = + ω_1*(σ_s1/f_yd)*(1/2-d1_h)\n",
    "        μ_s2 = + ω_2*(σ_s2/f_yd)*(1/2-d2_h)\n",
    "        μ_c = + α_R*ξ*(1-d1_h)*(1/2-k_a*ξ*(1-d1_h))\n",
    "        \n",
    "    elif 1<ξ:\n",
    "        dom = 'dom. 5'\n",
    "        aux = ((ε_c2u - ε_c2)/ε_c2u)\n",
    "        ε_ctop = ε_c2 * ξ/(ξ - aux*ℶ)\n",
    "        ε_cbot = ε_c2 * (ξ-ℶ)/(ξ - aux*ℶ) \n",
    "        ε_s1 = ε_c2 * (ξ-1)/(ξ-aux*ℶ)\n",
    "        ε_s2 = ε_c2 * (ξ-ℵ)/(ξ-aux*ℶ)\n",
    "        α_R1 = eval_α_R(ε_ctop)\n",
    "        α_R2 = eval_α_R(ε_cbot)\n",
    "        #ν_c = (α_R1-α_R2)*(ξ*ℶ)-α_R2\n",
    "        ν_c1 = α_R1 * ξ * ℶ\n",
    "        ν_c2 = α_R2 * (ξ*ℶ-1)\n",
    "        ν_c = ν_c1 - ν_c2\n",
    "\n",
    "        α_R = α_R1 + α_R2\n",
    "\n",
    "        σ_s1 = abs(eval_σ_s(-ε_s1)); σ_s2 = abs(eval_σ_s(-ε_s2))\n",
    "\n",
    "        ν_s1 = - ω_1*σ_s1/f_yd \n",
    "        ν_s2 = - ω_2*σ_s2/f_yd\n",
    "        #ν_c = - α_R\n",
    "\n",
    "        μ_s1 = + ω_1*(σ_s1/f_yd)*(1/2-d1_h)\n",
    "        μ_s2 = - ω_2*(σ_s2/f_yd)*(1/2-d2_h)\n",
    "        μ_c = - α_R*(1/2-k_a)\n",
    "\n",
    "        if flag_dom5 == True:\n",
    "            print('α_R1,α_R2:',α_R1,α_R2)\n",
    "            print('ν_c1,ν_c2',ν_c1,ν_c2)        \n",
    "            print('ε_ctop,ε_cbot:',ε_ctop*1000,ε_cbot*1000)\n",
    "            print('ε_s1,ε_s2:',ε_s1,ε_s2)        \n",
    "            print('σ_s1,σ_s2:',σ_s1,σ_s2)        \n",
    "            print('ν_s1,ν,s2,ν_c',ν_s1,ν_s2,ν_c)\n",
    "            print('μ_s1,μ,s2,μ_c',μ_s1,μ_s2,μ_c)\n",
    "\n",
    "    \n",
    "    ν_Ed = ν_s1 + ν_s2 + ν_c\n",
    "    μ_Ed = μ_s1 + μ_s2 + μ_c\n",
    "    return ν_Ed, μ_Ed\n",
    "        \n"
   ]
  },
  {
   "cell_type": "code",
   "execution_count": 10,
   "id": "theoretical-packaging",
   "metadata": {},
   "outputs": [
    {
     "name": "stdout",
     "output_type": "stream",
     "text": [
      "[-3.0, 0] reta-b [-0.8978527450256182, -0.11200000003234796] dom. 5 [-0.4512134646962233, 0.9215977502066701] dom. 4\n"
     ]
    }
   ],
   "source": [
    "ω_tot = 2.0\n",
    "ω_1 = .5*ω_tot\n",
    "ω_2 = .5*ω_tot\n",
    "\n",
    "pt0 = eval_ν_Ed_and_μ_Ed('PureCompression')\n",
    "dom0 = dom\n",
    "\n",
    "pt1 = eval_ν_Ed_and_μ_Ed(9999900000)\n",
    "dom1 = dom\n",
    "\n",
    "pt2 = eval_ν_Ed_and_μ_Ed(ξ_lim)\n",
    "dom2 = dom\n",
    "\n",
    "\n",
    "print(list(pt0), dom0, list(pt1), dom1, list(pt2), dom2)"
   ]
  },
  {
   "cell_type": "code",
   "execution_count": 11,
   "id": "0a4b6556",
   "metadata": {
    "scrolled": false
   },
   "outputs": [
    {
     "data": {
      "text/plain": [
       "'º'"
      ]
     },
     "execution_count": 11,
     "metadata": {},
     "output_type": "execute_result"
    }
   ],
   "source": [
    "hell=eval_ν_Ed_and_μ_Ed(999999)\n",
    "\"\"\" Antes\n",
    "ε_s1,ε_s2: 0.001860759493670886 0.00209704641350211\n",
    "σ_s1,σ_s2: 372.152 MPa 419.409 MPa\n",
    "ν_s1,ν,s2,ν_c -0.8559493670886076 -0.9646413502109706 -0.81\n",
    "μ_s1,μ,s2,μ_c 0.34237974683544303 -0.3858565400843883 -0.06804000000000002\n",
    "\"\"\"\n",
    "'º'\n",
    "\n",
    "# α's ok\n",
    "# ε's ok\n",
    "# σ's ok\n",
    "# ν ok..?\n",
    "# Agora começar a procurar uma maneira mais inteligente de fazer essas coisas\n",
    "# Valor de ν não está dando certo... enlouqueceu"
   ]
  },
  {
   "cell_type": "code",
   "execution_count": 12,
   "id": "a0f71bcd",
   "metadata": {},
   "outputs": [
    {
     "name": "stdout",
     "output_type": "stream",
     "text": [
      "(-1.7310529100529102, 0.49238356402116407)\n",
      "dom. 4\n"
     ]
    }
   ],
   "source": [
    "print(eval_ν_Ed_and_μ_Ed(1))\n",
    "print(dom)"
   ]
  },
  {
   "cell_type": "code",
   "execution_count": 13,
   "id": "8177558d",
   "metadata": {},
   "outputs": [
    {
     "name": "stdout",
     "output_type": "stream",
     "text": [
      "PT0:  (-3.0, 0)\n",
      "reta-b\n",
      "PT1:  (-1.7310529100529102, 0.49238356402116407)\n",
      "dom. 4\n",
      "PT2:  (-0.4512134646962233, 0.9215977502066701)\n",
      "dom. 4\n",
      "PT3:  (0.8071929824561406, 0.5219562696214219)\n",
      "dom. 2\n",
      "ξ_23 ^Problematico\n",
      "PTx:  (2.051322702634204, 0.019470918947443384)\n",
      "dom. 2\n",
      "^0.000001 Problematico\n",
      "PT4:  (2.0513227513227514, 0.019470899470899472)\n",
      "dom. 1\n",
      "PT5: (2.1, 0)\n",
      "reta-a\n"
     ]
    },
    {
     "data": {
      "image/png": "[encoded data removed]",
      "text/plain": [
       "<Figure size 432x288 with 1 Axes>"
      ]
     },
     "metadata": {
      "needs_background": "light"
     },
     "output_type": "display_data"
    }
   ],
   "source": [
    "ν_Ed_list = []\n",
    "μ_Ed_list = []\n",
    "ξ_list =[]\n",
    "dom_list =[]\n",
    "\n",
    "PT0=eval_ν_Ed_and_μ_Ed('PureCompression'); print('PT0: ',PT0)\n",
    "ν_Ed_list.append(PT0[0])\n",
    "μ_Ed_list.append(PT0[1])\n",
    "dom_list.append(dom), print(dom)\n",
    "\n",
    "PT1=eval_ν_Ed_and_μ_Ed(1); print('PT1: ', PT1)\n",
    "ν_Ed_list.append(PT1[0])\n",
    "μ_Ed_list.append(PT1[1])\n",
    "dom_list.append(dom), print(dom)\n",
    "\n",
    "\n",
    "PT2=eval_ν_Ed_and_μ_Ed(ξ_lim); print('PT2: ', PT2)\n",
    "ν_Ed_list.append(PT2[0])\n",
    "μ_Ed_list.append(PT2[1])\n",
    "dom_list.append(dom), print(dom)\n",
    "\n",
    "for ξ in np.linspace(ξ_lim,ξ_23,50):\n",
    "    ξ_list.append(ξ)\n",
    "    res = eval_ν_Ed_and_μ_Ed(ξ)\n",
    "    dom_list.append(dom)\n",
    "    ν_Ed_list.append(res[0])\n",
    "    μ_Ed_list.append(res[1])\n",
    "\n",
    "\"\"\"PTx2=eval_ν_Ed_and_μ_Ed((.8*ξ_lim+.2*ξ_23)); print('PTx2: ', PTx2)\n",
    "ν_Ed_list.append(PTx2[0])\n",
    "μ_Ed_list.append(PTx2[1])\n",
    "dom_list.append(dom), print(dom)\"\"\"\n",
    "\n",
    "PT3=eval_ν_Ed_and_μ_Ed(ξ_23); print('PT3: ', PT3)\n",
    "ν_Ed_list.append(PT3[0])\n",
    "μ_Ed_list.append(PT3[1])\n",
    "dom_list.append(dom), print(dom)\n",
    "print('ξ_23 ^Problematico')\n",
    "\n",
    "PTx=eval_ν_Ed_and_μ_Ed(0.000001); print('PTx: ', PTx)\n",
    "ν_Ed_list.append(PTx[0])\n",
    "μ_Ed_list.append(PTx[1])\n",
    "dom_list.append(dom), print(dom)\n",
    "print('^0.000001 Problematico')\n",
    "# Problematico\n",
    "\n",
    "PT4=eval_ν_Ed_and_μ_Ed(0); print('PT4: ', PT4)\n",
    "ν_Ed_list.append(PT4[0])\n",
    "μ_Ed_list.append(PT4[1])\n",
    "dom_list.append(dom), print(dom)\n",
    "\n",
    "PT5=eval_ν_Ed_and_μ_Ed('PureTension'); print('PT5:', PT5)\n",
    "ν_Ed_list.append(PT5[0])\n",
    "μ_Ed_list.append(PT5[1])\n",
    "dom_list.append(dom), print(dom)\n",
    "\n",
    "plt.plot(μ_Ed_list,ν_Ed_list)\n",
    "plt.gca().invert_yaxis()\n",
    "\n"
   ]
  },
  {
   "cell_type": "code",
   "execution_count": 14,
   "id": "e3fe456f",
   "metadata": {},
   "outputs": [
    {
     "data": {
      "text/plain": [
       "[0,\n",
       " 0.49238356402116407,\n",
       " 0.9215977502066701,\n",
       " 0.9215977502066701,\n",
       " 0.9213634137383498,\n",
       " 0.9210760649802553,\n",
       " 0.9207358318938118,\n",
       " 0.9203428513919267,\n",
       " 0.9198972701356675,\n",
       " 0.9193992454175667,\n",
       " 0.9188489461427471,\n",
       " 0.9182465539207413,\n",
       " 0.9175922642828543,\n",
       " 0.9168862880422445,\n",
       " 0.9161288528166264,\n",
       " 0.9153202047367456,\n",
       " 0.9144606103676136,\n",
       " 0.913550358874075,\n",
       " 0.9125897644677331,\n",
       " 0.9115791691788373,\n",
       " 0.9105189460046131,\n",
       " 0.9094095024950629,\n",
       " 0.9082512848488374,\n",
       " 0.9070447826058846,\n",
       " 0.9057905340408414,\n",
       " 0.9044891323823651,\n",
       " 0.9031412330098374,\n",
       " 0.9017475618114487,\n",
       " 0.900308924928368,\n",
       " 0.8988262201607945,\n",
       " 0.8973004503762415,\n",
       " 0.8957327393424649,\n",
       " 0.8941243505124604,\n",
       " 0.8924767094242783,\n",
       " 0.8907914305540798,\n",
       " 0.8890703496907278,\n",
       " 0.8795118794020654,\n",
       " 0.8685042403355788,\n",
       " 0.856763599834503,\n",
       " 0.8442092381752998,\n",
       " 0.8307470824957153,\n",
       " 0.8162668264801299,\n",
       " 0.8006382708795388,\n",
       " 0.7837066273516412,\n",
       " 0.7652864260194875,\n",
       " 0.7451535171569208,\n",
       " 0.7230344331662426,\n",
       " 0.6985920352977876,\n",
       " 0.6714058377685981,\n",
       " 0.6409445548529085,\n",
       " 0.6065270317908866,\n",
       " 0.5672653900716134,\n",
       " 0.5219562696214219,\n",
       " 0.5219562696214219,\n",
       " 0.019470918947443384,\n",
       " 0.019470899470899472,\n",
       " 0]"
      ]
     },
     "execution_count": 14,
     "metadata": {},
     "output_type": "execute_result"
    }
   ],
   "source": [
    "ν_Ed_list\n",
    "μ_Ed_list"
   ]
  },
  {
   "cell_type": "code",
   "execution_count": 15,
   "id": "36b4b2d8",
   "metadata": {},
   "outputs": [
    {
     "data": {
      "text/plain": [
       "-3.0"
      ]
     },
     "execution_count": 15,
     "metadata": {},
     "output_type": "execute_result"
    }
   ],
   "source": [
    "PT0[0]"
   ]
  },
  {
   "cell_type": "code",
   "execution_count": 16,
   "id": "92c7c486",
   "metadata": {},
   "outputs": [
    {
     "data": {
      "text/plain": [
       "-1.7310529100529102"
      ]
     },
     "execution_count": 16,
     "metadata": {},
     "output_type": "execute_result"
    }
   ],
   "source": [
    "PT1[0]"
   ]
  },
  {
   "cell_type": "code",
   "execution_count": 17,
   "id": "c43dba2c",
   "metadata": {},
   "outputs": [],
   "source": [
    "ε_s2_23 = ε_c2u * (ξ_23-ℵ)/ξ_23"
   ]
  },
  {
   "cell_type": "code",
   "execution_count": 18,
   "id": "d6b88597",
   "metadata": {
    "scrolled": true
   },
   "outputs": [
    {
     "data": {
      "text/plain": [
       "0.00033333333333333294"
      ]
     },
     "execution_count": 18,
     "metadata": {},
     "output_type": "execute_result"
    }
   ],
   "source": [
    "ε_s2_23"
   ]
  },
  {
   "cell_type": "code",
   "execution_count": 19,
   "id": "a6b51fc9",
   "metadata": {},
   "outputs": [
    {
     "data": {
      "text/plain": [
       "0.0027777777777777783"
      ]
     },
     "execution_count": 19,
     "metadata": {},
     "output_type": "execute_result"
    }
   ],
   "source": [
    "ℵ*ε_su"
   ]
  },
  {
   "cell_type": "code",
   "execution_count": 20,
   "id": "4e330a1b",
   "metadata": {},
   "outputs": [
    {
     "data": {
      "image/png": "[encoded data removed]",
      "text/plain": [
       "<Figure size 432x288 with 1 Axes>"
      ]
     },
     "metadata": {
      "needs_background": "light"
     },
     "output_type": "display_data"
    }
   ],
   "source": [
    "#Bloco para criar listas de valores de ν,μ\n",
    "def generate_vals():\n",
    "    global ν_Ed_list\n",
    "    global μ_Ed_list\n",
    "    \n",
    "    ν_Ed_list = []\n",
    "    μ_Ed_list = []\n",
    "    ξ_list =[]\n",
    "    dom_list =[]\n",
    "\n",
    "    pure_trac = eval_ν_Ed_and_μ_Ed('PureTension')\n",
    "    ν_Ed_list.append(pure_trac[0])\n",
    "    μ_Ed_list.append(pure_trac[1])\n",
    "\n",
    "    for ξ in np.linspace(-1,1,1000):\n",
    "        ξ_list.append(ξ)\n",
    "        res = eval_ν_Ed_and_μ_Ed(ξ)\n",
    "        dom_list.append(dom)\n",
    "        ν_Ed_list.append(res[0])\n",
    "        μ_Ed_list.append(res[1])\n",
    "\n",
    "    pure_comp = eval_ν_Ed_and_μ_Ed('PureCompression')\n",
    "    ν_Ed_list.append(pure_comp[0])\n",
    "    μ_Ed_list.append(pure_comp[1])\n",
    "\n",
    "plt.plot(μ_Ed_list,ν_Ed_list)\n",
    "plt.gca().invert_yaxis()"
   ]
  },
  {
   "cell_type": "code",
   "execution_count": 30,
   "id": "62326e4a",
   "metadata": {
    "scrolled": true
   },
   "outputs": [
    {
     "data": {
      "image/png": "[encoded data removed]",
      "text/plain": [
       "<Figure size 432x288 with 1 Axes>"
      ]
     },
     "metadata": {
      "needs_background": "light"
     },
     "output_type": "display_data"
    }
   ],
   "source": [
    "#plt.plot(ξ_list,ν_Ed_list)\n",
    "#plt.plot(ξ_list,μ_Ed_list)\n",
    "\n",
    "ω_tot_list = [.1*i for i in list(range(0,22))]\n",
    "\n",
    "for ω_val in ω_tot_list:\n",
    "    ω_1 = ω_val\n",
    "    ω_2 = 0\n",
    "    ω_tot = ω_1 + ω_2 \n",
    "    \n",
    "    generate_vals()\n",
    "    plt.plot(μ_Ed_list,ν_Ed_list)\n",
    "\n",
    "plt.gca().invert_yaxis()"
   ]
  },
  {
   "cell_type": "code",
   "execution_count": 22,
   "id": "339e1c29",
   "metadata": {},
   "outputs": [
    {
     "data": {
      "image/png": "[encoded data removed]",
      "text/plain": [
       "<Figure size 432x288 with 1 Axes>"
      ]
     },
     "metadata": {
      "needs_background": "light"
     },
     "output_type": "display_data"
    }
   ],
   "source": [
    "#plt.plot(ξ_list,ν_Ed_list)\n",
    "#plt.plot(ξ_list,μ_Ed_list)\n",
    "\n",
    "ω_tot_list = [.1*i for i in list(range(0,22))]\n",
    "\n",
    "for ω_tot in ω_tot_list:\n",
    "    ω_tot = ω_tot\n",
    "    ω_1 = ω_tot * .5\n",
    "    ω_2 = ω_tot * .5\n",
    "    generate_vals()\n",
    "    plt.plot(μ_Ed_list,ν_Ed_list)\n",
    "\n",
    "plt.gca().invert_yaxis()"
   ]
  },
  {
   "cell_type": "code",
   "execution_count": 23,
   "id": "1006ba85",
   "metadata": {},
   "outputs": [],
   "source": [
    "a = list(range(0,11))"
   ]
  },
  {
   "cell_type": "code",
   "execution_count": 24,
   "id": "71057d7c",
   "metadata": {},
   "outputs": [
    {
     "data": {
      "text/plain": [
       "[0, 1, 2, 3, 4, 5, 6, 7, 8, 9, 10]"
      ]
     },
     "execution_count": 24,
     "metadata": {},
     "output_type": "execute_result"
    }
   ],
   "source": [
    "a"
   ]
  },
  {
   "cell_type": "code",
   "execution_count": 25,
   "id": "bb0d0908",
   "metadata": {},
   "outputs": [],
   "source": [
    "ω_tot_list = [.1*i for i in list(range(0,10))]"
   ]
  },
  {
   "cell_type": "code",
   "execution_count": 26,
   "id": "064314a4",
   "metadata": {},
   "outputs": [
    {
     "data": {
      "text/plain": [
       "[0.0,\n",
       " 0.1,\n",
       " 0.2,\n",
       " 0.30000000000000004,\n",
       " 0.4,\n",
       " 0.5,\n",
       " 0.6000000000000001,\n",
       " 0.7000000000000001,\n",
       " 0.8,\n",
       " 0.9]"
      ]
     },
     "execution_count": 26,
     "metadata": {},
     "output_type": "execute_result"
    }
   ],
   "source": [
    "ω_tot_list"
   ]
  },
  {
   "cell_type": "code",
   "execution_count": null,
   "id": "13eae1b5",
   "metadata": {},
   "outputs": [],
   "source": []
  }
 ],
 "metadata": {
  "kernelspec": {
   "display_name": "Python 3",
   "language": "python",
   "name": "python3"
  },
  "language_info": {
   "codemirror_mode": {
    "name": "ipython",
    "version": 3
   },
   "file_extension": ".py",
   "mimetype": "text/x-python",
   "name": "python",
   "nbconvert_exporter": "python",
   "pygments_lexer": "ipython3",
   "version": "3.9.7"
  }
 },
 "nbformat": 4,
 "nbformat_minor": 5
}
