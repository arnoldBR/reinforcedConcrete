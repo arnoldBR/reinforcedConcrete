{
 "cells": [
  {
   "cell_type": "code",
   "execution_count": 1,
   "id": "direct-oliver",
   "metadata": {},
   "outputs": [],
   "source": [
    "import pandas as pd\n",
    "import handcalcs.render\n",
    "import forallpeople\n",
    "from math import pi\n",
    "from IPython.display import display, Markdown, Math\n",
    "forallpeople.environment('structural_custom', top_level = True)\n",
    "%decimal_separator ,"
   ]
  },
  {
   "cell_type": "code",
   "execution_count": 2,
   "id": "black-specification",
   "metadata": {},
   "outputs": [
    {
     "name": "stdout",
     "output_type": "stream",
     "text": [
      "    μEds      ω1  ξ =x/d  ζ= z/d  εc2 [‰]  εs1 [‰]  σsd [MN/m2]\n",
      "0   0.01  0.0101   0.030   0.990    -0.77    25.00        456.5\n",
      "1   0.02  0.0203   0.044   0.985    -1.15    25.00        456.5\n",
      "2   0.03  0.0306   0.055   0.980    -1.46    25.00        456.5\n",
      "3   0.04  0.0410   0.066   0.976    -1.76    25.00        456.5\n",
      "4   0.05  0.0515   0.076   0.971    -2.06    25.00        456.5\n",
      "5   0.06  0.0621   0.086   0.967    -2.37    25.00        456.5\n",
      "6   0.07  0.0728   0.097   0.962    -2.68    25.00        456.5\n",
      "7   0.08  0.0836   0.107   0.957    -3.01    25.00        456.5\n",
      "8   0.09  0.0946   0.118   0.951    -3.35    25.00        456.5\n",
      "9   0.10  0.1058   0.131   0.946    -3.50    23.29        454.9\n",
      "10  0.11  0.1170   0.145   0.940    -3.50    20.71        452.4\n",
      "11  0.12  0.1285   0.159   0.934    -3.50    18.55        450.4\n",
      "12  0.13  0.1401   0.173   0.928    -3.50    16.73        448.6\n",
      "13  0.14  0.1519   0.188   0.922    -3.50    15.16        447.1\n",
      "14  0.15  0.1638   0.202   0.916    -3.50    13.80        445.9\n",
      "15  0.16  0.1759   0.217   0.910    -3.50    12.61        444.7\n",
      "16  0.17  0.1882   0.233   0.903    -3.50    11.56        443.7\n",
      "17  0.18  0.2007   0.248   0.897    -3.50    10.62        442.8\n",
      "18  0.19  0.2134   0.264   0.890    -3.50     9.78        442.0\n",
      "19  0.20  0.2263   0.280   0.884    -3.50     9.02        441.3\n",
      "20  0.21  0.2395   0.296   0.877    -3.50     8.33        440.6\n",
      "21  0.22  0.2529   0.312   0.870    -3.50     7.71        440.1\n",
      "22  0.23  0.2665   0.329   0.863    -3.50     7.13        439.5\n",
      "23  0.24  0.2804   0.346   0.856    -3.50     6.61        439.0\n",
      "24  0.25  0.2946   0.364   0.849    -3.50     6.12        438.5\n",
      "25  0.26  0.3091   0.382   0.841    -3.50     5.67        438.1\n",
      "26  0.27  0.3239   0.400   0.834    -3.50     5.25        437.7\n",
      "27  0.28  0.3391   0.419   0.826    -3.50     4.86        437.3\n",
      "28  0.29  0.3546   0.438   0.818    -3.50     4.49        437.0\n",
      "29  0.30  0.3706   0.458   0.810    -3.50     4.15        436.7\n",
      "30  0.31  0.3869   0.478   0.801    -3.50     3.82        436.4\n",
      "31  0.32  0.4038   0.499   0.793    -3.50     3.52        436.1\n",
      "32  0.33  0.4211   0.520   0.784    -3.50     3.23        435.8\n",
      "33  0.34  0.4391   0.542   0.774    -3.50     2.95        435.5\n",
      "34  0.35  0.4576   0.565   0.765    -3.50     2.69        435.3\n",
      "35  0.36  0.4768   0.589   0.755    -3.50     2.44        435.0\n",
      "36  0.37  0.4968   0.614   0.745    -3.50     2.20        434.8\n",
      "37  0.38  0.5177   0.640   0.734    -3.50     1.97        394.5\n",
      "38  0.39  0.5396   0.667   0.723    -3.50     1.75        350.1\n",
      "39  0.40  0.5627   0.695   0.711    -3.50     1.54        307.1\n"
     ]
    }
   ],
   "source": [
    "df = pd.read_csv('Tabelle_6_3_Zilch.csv', decimal=',')\n",
    "print(df)"
   ]
  },
  {
   "cell_type": "code",
   "execution_count": 3,
   "id": "downtown-following",
   "metadata": {},
   "outputs": [
    {
     "name": "stdout",
     "output_type": "stream",
     "text": [
      "μ=0.08813667165081285\n"
     ]
    }
   ],
   "source": [
    "# ESTES SÃO OS VALORES QUE DEVEM SER ALTERADOS\n",
    "b = 1 * m\n",
    "d = 0.215 * m\n",
    "f_ck = 30 * MPa\n",
    "f_cd = 0.85 * f_ck / 1.5\n",
    "\n",
    "\n",
    "N_Ed = 0 * kN\n",
    "M_Eds = 69.26 * kN * m\n",
    "\n",
    "μ_Eds = abs(M_Eds)/(b*d*d*f_cd)\n",
    "μ = μ_Eds\n",
    "print(f\"μ={μ_Eds}\")"
   ]
  },
  {
   "cell_type": "code",
   "execution_count": 4,
   "id": "handled-discharge",
   "metadata": {},
   "outputs": [
    {
     "name": "stdout",
     "output_type": "stream",
     "text": [
      "idx1=7, idx2=8\n",
      "μ1=0.08, μ2=0.09\n",
      "ω1=0.0836, ω2=0.0946\n",
      "ω=0.09255033881589414\n"
     ]
    }
   ],
   "source": [
    "# Cálculo de ω_1 e σ_sd pela tabela\n",
    "for i in df[\"μEds\"]:\n",
    "    # print(df.index[df[\"μEds\"]==i][0])\n",
    "    # print(i)\n",
    "    \n",
    "    if μ_Eds > i:\n",
    "        idx_1 = int(df.index[df[\"μEds\"]==i][0])\n",
    "        idx_2 = idx_1 + 1\n",
    "print(f\"idx1={idx_1}, idx2={idx_2}\")\n",
    "        \n",
    "μ_1 = df[\"μEds\"].iloc[idx_1]\n",
    "μ_2 = df[\"μEds\"].iloc[idx_2]\n",
    "print(f\"μ1={μ_1}, μ2={μ_2}\")\n",
    "\n",
    "ω_1 = df[\"ω1\"].iloc[idx_1]\n",
    "ω_2 = df[\"ω1\"].iloc[idx_2] # aqui havia um erro, estava idx_1 - corrigido \n",
    "print(f\"ω1={ω_1}, ω2={ω_2}\")\n",
    "ω = ((μ - μ_1)/(μ_2 - μ_1))*(ω_2 - ω_1) + ω_1\n",
    "print(f\"ω={ω}\")\n",
    "\n",
    "σ_1 = df['σsd [MN/m2]'].iloc[idx_1]\n",
    "σ_2 = df['σsd [MN/m2]'].iloc[idx_2]\n",
    "σ = ((μ - μ_1)/(μ_2 - μ_1))*(σ_2 - σ_1) + σ_1\n"
   ]
  },
  {
   "cell_type": "code",
   "execution_count": 5,
   "id": "distributed-place",
   "metadata": {},
   "outputs": [
    {
     "data": {
      "text/latex": [
       "\\[\n",
       "\\begin{aligned}\n",
       "ω_{1} &= 9{,}26 \\times 10 ^ {-2 } \\; \n",
       "\\\\[10pt]\n",
       "σ_{sd} &= 456{,}50\\ \\text{MPa} \\; \\;\\textrm{(Tensão na armadura)}\n",
       "\\end{aligned}\n",
       "\\]"
      ],
      "text/plain": [
       "<IPython.core.display.Latex object>"
      ]
     },
     "metadata": {},
     "output_type": "display_data"
    }
   ],
   "source": [
    "%%render 2\n",
    "ω_1 = ω\n",
    "σ_sd = σ * MPa # Tensão na armadura"
   ]
  },
  {
   "cell_type": "code",
   "execution_count": 6,
   "id": "postal-listing",
   "metadata": {},
   "outputs": [
    {
     "data": {
      "text/latex": [
       "\\[\n",
       "\\begin{aligned}\n",
       "\\mathrm{erfA}_{s1} &= 7{,}41\\ \\text{cm}^{2} \\; \n",
       "\\end{aligned}\n",
       "\\]"
      ],
      "text/plain": [
       "<IPython.core.display.Latex object>"
      ]
     },
     "metadata": {},
     "output_type": "display_data"
    }
   ],
   "source": [
    "%%render 2\n",
    "    erfA_s1 =( (ω*b*d*f_cd + N_Ed) / σ_sd ).prefix('c')"
   ]
  }
 ],
 "metadata": {
  "kernelspec": {
   "display_name": "Python 3",
   "language": "python",
   "name": "python3"
  },
  "language_info": {
   "codemirror_mode": {
    "name": "ipython",
    "version": 3
   },
   "file_extension": ".py",
   "mimetype": "text/x-python",
   "name": "python",
   "nbconvert_exporter": "python",
   "pygments_lexer": "ipython3",
   "version": "3.9.1"
  }
 },
 "nbformat": 4,
 "nbformat_minor": 5
}
